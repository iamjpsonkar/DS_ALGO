{
 "cells": [
  {
   "cell_type": "markdown",
   "metadata": {},
   "source": [
    "# Data Structure & Algoritms"
   ]
  },
  {
   "cell_type": "markdown",
   "metadata": {},
   "source": [
    "## Basic"
   ]
  },
  {
   "cell_type": "markdown",
   "metadata": {},
   "source": [
    "## String"
   ]
  },
  {
   "cell_type": "code",
   "execution_count": 1,
   "metadata": {},
   "outputs": [],
   "source": [
    "s='String'"
   ]
  },
  {
   "cell_type": "markdown",
   "metadata": {},
   "source": [
    "## List"
   ]
  },
  {
   "cell_type": "code",
   "execution_count": 2,
   "metadata": {},
   "outputs": [],
   "source": [
    "l=list()"
   ]
  },
  {
   "cell_type": "markdown",
   "metadata": {},
   "source": [
    "## Dictionary"
   ]
  },
  {
   "cell_type": "code",
   "execution_count": 3,
   "metadata": {},
   "outputs": [],
   "source": [
    "d=dict()"
   ]
  },
  {
   "cell_type": "markdown",
   "metadata": {},
   "source": [
    "## Other Primitive Data types"
   ]
  },
  {
   "cell_type": "code",
   "execution_count": null,
   "metadata": {},
   "outputs": [],
   "source": []
  },
  {
   "cell_type": "markdown",
   "metadata": {},
   "source": [
    "## Linked List"
   ]
  },
  {
   "cell_type": "code",
   "execution_count": 4,
   "metadata": {},
   "outputs": [],
   "source": [
    "class Node:\n",
    "    def __init__(self,val,next=None):\n",
    "        self.val=val\n",
    "        self.next=next\n",
    "\n",
    "class LinkedList:\n",
    "    def __init__(self,val):\n",
    "        self.head=Node(val)"
   ]
  },
  {
   "cell_type": "markdown",
   "metadata": {},
   "source": [
    "## Tree"
   ]
  },
  {
   "cell_type": "code",
   "execution_count": 5,
   "metadata": {},
   "outputs": [],
   "source": [
    "class Node:\n",
    "    def __init__(self,val,left=None,right=None):\n",
    "        self.val=val\n",
    "        self.left=left\n",
    "        self.right=right\n",
    "\n",
    "class LinkedList:\n",
    "    def __init__(self,val):\n",
    "        self.head=Node(val)"
   ]
  },
  {
   "cell_type": "markdown",
   "metadata": {},
   "source": [
    "## Graph"
   ]
  },
  {
   "cell_type": "code",
   "execution_count": null,
   "metadata": {},
   "outputs": [],
   "source": []
  },
  {
   "cell_type": "markdown",
   "metadata": {},
   "source": [
    "## Traversing"
   ]
  },
  {
   "cell_type": "code",
   "execution_count": 6,
   "metadata": {},
   "outputs": [
    {
     "name": "stdout",
     "output_type": "stream",
     "text": [
      "1\n",
      "2\n",
      "3\n",
      "4\n",
      "5\n"
     ]
    }
   ],
   "source": [
    "l=[1,2,3,4,5]\n",
    "n=len(l)\n",
    "for i in range(n):\n",
    "    print(l[i])"
   ]
  },
  {
   "cell_type": "markdown",
   "metadata": {},
   "source": [
    "## Searching"
   ]
  },
  {
   "cell_type": "code",
   "execution_count": 7,
   "metadata": {},
   "outputs": [
    {
     "name": "stdout",
     "output_type": "stream",
     "text": [
      "3\n",
      "-1\n"
     ]
    }
   ],
   "source": [
    "l=[1,2,3,4,5]\n",
    "n=len(l)\n",
    "se= 4\n",
    "for i in range(n):\n",
    "    if l[i]==se:\n",
    "        print(i)\n",
    "print(-1)"
   ]
  },
  {
   "cell_type": "markdown",
   "metadata": {},
   "source": [
    "## Sorting\n",
    "\n",
    "Sorting is a technique to sort any list/array either in increasing or decreasing order. There are multiple sorting techniques.\n"
   ]
  },
  {
   "cell_type": "markdown",
   "metadata": {},
   "source": [
    "### Bubble Sort\n",
    "- **Mechanism** : Repeatedly swap adjacent elements if they are in the wrong order.\n",
    "- **Complexity**: `O(n^2)` for average and worst-case, O(n) for best case (already sorted).\n",
    "- **Key Point**: Simple but inefficient."
   ]
  },
  {
   "cell_type": "code",
   "execution_count": 8,
   "metadata": {},
   "outputs": [
    {
     "name": "stdout",
     "output_type": "stream",
     "text": [
      "List before sorting [39, 87, 29, 37, 55, 43, 23, 32, 73, 17, 16]\n",
      "List after sorting [16, 17, 23, 29, 32, 37, 39, 43, 55, 73, 87]\n"
     ]
    }
   ],
   "source": [
    "def bubbleSort(ar,n):\n",
    "    for i in range(n):\n",
    "        swapped = False\n",
    "        for j in range(n-1-i):\n",
    "            if ar[j]>ar[j+1]:\n",
    "                ar[j],ar[j+1]=ar[j+1], ar[j]\n",
    "                swapped = True\n",
    "        if not swapped:\n",
    "            return\n",
    "\n",
    "import random\n",
    "n = random.randrange(10,15)\n",
    "ar = [random.randrange(10, 100) for _ in range(n)]\n",
    "print(f\"List before sorting {ar}\")\n",
    "bubbleSort(ar,n)\n",
    "print(f\"List after sorting {ar}\")\n"
   ]
  },
  {
   "cell_type": "markdown",
   "metadata": {},
   "source": [
    "### Selection Sort\n",
    "\n",
    "- **Mechanism**: Divide the array into a sorted and an unsorted region. Repeatedly pick the smallest (or largest) element from the unsorted region and add it to the sorted region.\n",
    "- **Complexity**: O(n^2) for average, worst, and best cases.\n",
    "- **Key Point**: Inefficient but simple."
   ]
  },
  {
   "cell_type": "code",
   "execution_count": 9,
   "metadata": {},
   "outputs": [
    {
     "name": "stdout",
     "output_type": "stream",
     "text": [
      "List before sorting [55, 96, 65, 17, 65, 98, 29, 97, 47, 41, 49, 52, 80, 71]\n",
      "List after sorting [17, 29, 41, 47, 49, 52, 55, 65, 65, 71, 80, 96, 97, 98]\n"
     ]
    }
   ],
   "source": [
    "def selectionSort(ar,n):\n",
    "    for i in range(n):\n",
    "        min_ind=i\n",
    "        for j in range(i+1,n):\n",
    "            if ar[j]<ar[min_ind]:\n",
    "                min_ind=j\n",
    "        ar[min_ind],ar[i]=ar[i],ar[min_ind]\n",
    "\n",
    "import random\n",
    "n = random.randrange(10,15)\n",
    "ar = [random.randrange(10, 100) for _ in range(n)]\n",
    "print(f\"List before sorting {ar}\")\n",
    "selectionSort(ar,n)\n",
    "print(f\"List after sorting {ar}\")\n"
   ]
  },
  {
   "cell_type": "markdown",
   "metadata": {},
   "source": [
    "### Insertion Sort\n",
    "\n",
    "- **Mechanism**: Build the final sorted array one item at a time by repeatedly removing one element from the input and inserting it into its correct position within the sorted list.\n",
    "- **Complexity**: O(n^2) for average and worst-case, O(n) for best case (already sorted).\n",
    "- **Key Point**: Efficient for small lists or nearly sorted lists."
   ]
  },
  {
   "cell_type": "code",
   "execution_count": 10,
   "metadata": {},
   "outputs": [
    {
     "name": "stdout",
     "output_type": "stream",
     "text": [
      "List before sorting [62, 18, 93, 56, 62, 89, 97, 13, 19, 53]\n",
      "List after sorting [13, 18, 19, 53, 56, 62, 62, 89, 93, 97]\n"
     ]
    }
   ],
   "source": [
    "def insertionSort(ar,n):\n",
    "    for i in range(1,n):\n",
    "        min_ele=ar[i]\n",
    "        j=i-1\n",
    "        while j>=0 and min_ele<ar[j]:\n",
    "            ar[j+1]=ar[j]\n",
    "            j-=1\n",
    "        ar[j+1]=min_ele\n",
    "\n",
    "\n",
    "import random\n",
    "n = random.randrange(10,15)\n",
    "ar = [random.randrange(10, 100) for _ in range(n)]\n",
    "print(f\"List before sorting {ar}\")\n",
    "insertionSort(ar,n)\n",
    "print(f\"List after sorting {ar}\")"
   ]
  },
  {
   "cell_type": "markdown",
   "metadata": {},
   "source": [
    "### Merge Sort\n",
    "\n",
    "- **Mechanism**: Divide the array in half, sort each half, and then merge them back together.\n",
    "- **Complexity**: O(n log n) for average, worst, and best cases.\n",
    "- **Key Point**: Divide and conquer approach. Stable sort. Requires O(n) additional space."
   ]
  },
  {
   "cell_type": "code",
   "execution_count": null,
   "metadata": {},
   "outputs": [],
   "source": [
    "def merge(ar,low,mid,high):\n",
    "    left=ar[low:mid+1]\n",
    "    right=ar[mid+1:high+1]\n",
    "    k=low\n",
    "    i=j=0\n",
    "    while i<len(left) and j<len(right):\n",
    "        if left[i]<right[j]:\n",
    "            ar[k]=left[i]\n",
    "            i+=1\n",
    "        else:\n",
    "            ar[k]=right[j]\n",
    "            j+=1\n",
    "        k+=1\n",
    "    \n",
    "    while i<len(left):\n",
    "        ar[k]=left[i]\n",
    "        i+=1\n",
    "        k+=1\n",
    "    \n",
    "    while j<len(right):\n",
    "        ar[k]=right[j]\n",
    "        j+=1\n",
    "        k+=1\n",
    "\n",
    "def mergeSort(ar,low, high):\n",
    "    if low<high:\n",
    "        mid=(low+high)//2\n",
    "        mergeSort(ar,low,mid)\n",
    "        mergeSort(ar,mid+1,high)\n",
    "        merge(ar,low,mid,high)\n",
    "\n",
    "\n",
    "\n",
    "import random\n",
    "n = random.randrange(10,15)\n",
    "ar = [random.randrange(10, 100) for _ in range(n)]\n",
    "print(f\"List before sorting {ar}\")\n",
    "mergeSort(ar,0,n-1)\n",
    "print(f\"List after sorting {ar}\")"
   ]
  },
  {
   "cell_type": "markdown",
   "metadata": {},
   "source": [
    "## Back Tracking"
   ]
  },
  {
   "cell_type": "code",
   "execution_count": null,
   "metadata": {},
   "outputs": [],
   "source": []
  },
  {
   "cell_type": "markdown",
   "metadata": {},
   "source": [
    "## Dynamic Programming"
   ]
  },
  {
   "cell_type": "code",
   "execution_count": null,
   "metadata": {},
   "outputs": [],
   "source": []
  },
  {
   "cell_type": "markdown",
   "metadata": {},
   "source": [
    "## Other Algorithms"
   ]
  },
  {
   "cell_type": "code",
   "execution_count": null,
   "metadata": {},
   "outputs": [],
   "source": []
  }
 ],
 "metadata": {
  "kernelspec": {
   "display_name": "Python 3",
   "language": "python",
   "name": "python3"
  },
  "language_info": {
   "codemirror_mode": {
    "name": "ipython",
    "version": 3
   },
   "file_extension": ".py",
   "mimetype": "text/x-python",
   "name": "python",
   "nbconvert_exporter": "python",
   "pygments_lexer": "ipython3",
   "version": "3.10.7"
  }
 },
 "nbformat": 4,
 "nbformat_minor": 2
}
